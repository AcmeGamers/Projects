{
 "cells": [
  {
   "cell_type": "markdown",
   "metadata": {},
   "source": [
    "# Selenium Automation\n",
    "A script that uses Selenium to automate scrapping data from a specific website. Note, you will need to run the script in adminstration mode because the temporary directory cannot be created in the user mode."
   ]
  },
  {
   "cell_type": "markdown",
   "metadata": {},
   "source": [
    "## Importing Liberaries"
   ]
  },
  {
   "cell_type": "code",
   "execution_count": 10,
   "metadata": {},
   "outputs": [],
   "source": [
    "import selenium\n",
    "from selenium import webdriver\n",
    "from selenium.webdriver.common.keys import Keys\n",
    "from selenium.webdriver.common.by import By\n",
    "from selenium.webdriver.support.ui import WebDriverWait\n",
    "\n",
    "from bs4 import BeautifulSoup"
   ]
  },
  {
   "cell_type": "markdown",
   "metadata": {},
   "source": [
    "## Details"
   ]
  },
  {
   "cell_type": "code",
   "execution_count": 11,
   "metadata": {},
   "outputs": [],
   "source": [
    "headers = ['PIN', 'Physical Address','Unit','City','Zip Code','Descriptive Location','Neighborhood','Class','Land Use Code','Acres','Land Type','Frontage Width and Depth','Street1/Street2','Topo1/Topo2/Topo3','Util1/Util2/Util3','Restrict1/Restrict2/Restrict3']\n",
    "url = 'https://taxdata.nashcountync.gov/search/commonsearch.aspx?mode=parid'\n",
    "searchBarName = 'inpParid'\n",
    "key = '023823'\n",
    "keys = ['023823', '023824', '023825', '023826', '023827', '023828', '023829', '023830', '023831', '023832', '023833', '023834', '023835', '023836', '023837', '023838', '023839', '023840', '023841', '023842', '023843', '023844', '023845', '023846', '023847', '023848', '023849', '023850', '023851', '023852', '023853', '023854', '023855', '023856', '023857', '023858', '023859', '023860', '023861', '023862', '023863', '023864', '023865', '023866', '023867', '023868', '023869', '023870', '023871', '023872', '023873', '023874', '023875', '023876', '023877', '023878', '023879', '023880', '023881', '023882', '023883', '023884', '023885', '023886', '023887', '023888', '023889', '023890', '023891', '023892', '023893', '023894', '023895', '023896', '023897', '023898', '023899', '023900', '023901', '023902', '023903', '023904', '023905', '023906', '023907', '023908', '023909', '023910', '023911', '023912', '023913', '023914', '023915', '023916', '023917', '023918', '023919', '023920', '023921', '023922', '023923', '023924', '023925', '023926', '023927',]\n",
    "elementToGet = 'PARCEL'\n",
    "resultsArray = []\n",
    "resultFile = 'results.csv'"
   ]
  },
  {
   "cell_type": "code",
   "execution_count": 12,
   "metadata": {},
   "outputs": [],
   "source": [
    "def singlePackage(url, searchBarName, key='023823'):\n",
    "    driver = webdriver.Chrome()\n",
    "    driver.get(url)\n",
    "    searchBar = driver.find_element(By.NAME, value=searchBarName)\n",
    "    searchBar.send_keys(key)\n",
    "    searchBar.send_keys(Keys.RETURN)\n",
    "    wait = WebDriverWait(driver, 10)\n",
    "    wait.until(lambda driver: driver.find_element(By.NAME, value=elementToGet)) \n",
    "    html = driver.page_source\n",
    "    soup = BeautifulSoup(html, 'html.parser')\n",
    "    results = soup.find_all('table', {'id': 'Parcel'})\n",
    "\n",
    "    rows = results[0].find_all('tr')\n",
    "    col =  rows[0].find_all('td')\n",
    "\n",
    "    with open(resultFile, 'w', newline='') as csvfile:\n",
    "        writer = csv.writer(csvfile, delimiter=',')\n",
    "        writer.writerow(headers)\n",
    "        result = []\n",
    "        try:\n",
    "            for row in rows:\n",
    "                col = row.find_all('td')\n",
    "                col = col[1].text.split(',')\n",
    "                for c in col:\n",
    "                    result.append(c.strip())                          \n",
    "        except IndexError:\n",
    "            print('IndexError')\n",
    "        \n",
    "        writer.writerow(result)  \n",
    "            \n",
    "    driver.quit()"
   ]
  },
  {
   "cell_type": "code",
   "execution_count": 13,
   "metadata": {},
   "outputs": [],
   "source": [
    "def multiplePackages(url, searchBarName, keys):\n",
    "    driver = webdriver.Chrome()\n",
    "    driver.get(url)\n",
    "    for key in keys:\n",
    "        searchBar = driver.find_element(By.NAME, value=searchBarName)\n",
    "        searchBar.send_keys(key)\n",
    "        searchBar.send_keys(Keys.RETURN)\n",
    "        wait = WebDriverWait(driver, 10) \n",
    "        wait.until(lambda driver: driver.find_element(By.NAME, value=elementToGet))\n",
    "        html = driver.page_source\n",
    "        soup = BeautifulSoup(html, 'html.parser')\n",
    "        results = soup.find_all('table', {'id': 'Parcel'})\n",
    "        rows = results[0].find_all('tr')\n",
    "        col =  rows[0].find_all('td')\n",
    "        with open(resultFile, 'a', newline='') as csvfile:\n",
    "            writer = csv.writer(csvfile, delimiter=',')\n",
    "            result = []\n",
    "            try:\n",
    "                for row in rows:\n",
    "                    col = row.find_all('td')\n",
    "                    col = col[1].text.split(',')\n",
    "                    for c in col:\n",
    "                        result.append(c.strip()) \n",
    "            except IndexError:\n",
    "                print('IndexError')\n",
    "            writer.writerow(result)\n",
    "             \n",
    "        driver.get(url)\n",
    "             \n",
    "    driver.quit()"
   ]
  },
  {
   "cell_type": "markdown",
   "metadata": {},
   "source": [
    "## Testing Scripts"
   ]
  },
  {
   "cell_type": "code",
   "execution_count": 14,
   "metadata": {},
   "outputs": [
    {
     "ename": "WebDriverException",
     "evalue": "Message: unknown error: cannot create temp dir for user data dir\nStacktrace:\nBacktrace:\n\tOrdinal0 [0x00847413+2389011]\n\tOrdinal0 [0x007D9F61+1941345]\n\tOrdinal0 [0x006CC658+837208]\n\tOrdinal0 [0x006E935A+955226]\n\tOrdinal0 [0x006E5C51+941137]\n\tOrdinal0 [0x00718C80+1150080]\n\tOrdinal0 [0x007188DA+1149146]\n\tOrdinal0 [0x00713F66+1130342]\n\tOrdinal0 [0x006EE546+976198]\n\tOrdinal0 [0x006EF456+980054]\n\tGetHandleVerifier [0x009F9632+1727522]\n\tGetHandleVerifier [0x00AABA4D+2457661]\n\tGetHandleVerifier [0x008DEB81+569713]\n\tGetHandleVerifier [0x008DDD76+566118]\n\tOrdinal0 [0x007E0B2B+1968939]\n\tOrdinal0 [0x007E5988+1989000]\n\tOrdinal0 [0x007E5A75+1989237]\n\tOrdinal0 [0x007EECB1+2026673]\n\tBaseThreadInitThunk [0x7745FA29+25]\n\tRtlGetAppContainerNamedObjectPath [0x77687A7E+286]\n\tRtlGetAppContainerNamedObjectPath [0x77687A4E+238]\n",
     "output_type": "error",
     "traceback": [
      "\u001b[1;31m---------------------------------------------------------------------------\u001b[0m",
      "\u001b[1;31mWebDriverException\u001b[0m                        Traceback (most recent call last)",
      "\u001b[1;32md:\\Projects\\Projects\\Coding\\2- Self Made\\Python\\Selenium\\selenium.ipynb Cell 9'\u001b[0m in \u001b[0;36m<cell line: 1>\u001b[1;34m()\u001b[0m\n\u001b[1;32m----> <a href='vscode-notebook-cell:/d%3A/Projects/Projects/Coding/2-%20Self%20Made/Python/Selenium/selenium.ipynb#ch0000004?line=0'>1</a>\u001b[0m singlePackage(url, searchBarName, key)\n",
      "\u001b[1;32md:\\Projects\\Projects\\Coding\\2- Self Made\\Python\\Selenium\\selenium.ipynb Cell 6'\u001b[0m in \u001b[0;36msinglePackage\u001b[1;34m(url, searchBarName, key)\u001b[0m\n\u001b[0;32m      <a href='vscode-notebook-cell:/d%3A/Projects/Projects/Coding/2-%20Self%20Made/Python/Selenium/selenium.ipynb#ch0000002?line=0'>1</a>\u001b[0m \u001b[39mdef\u001b[39;00m \u001b[39msinglePackage\u001b[39m(url, searchBarName, key\u001b[39m=\u001b[39m\u001b[39m'\u001b[39m\u001b[39m023823\u001b[39m\u001b[39m'\u001b[39m):\n\u001b[1;32m----> <a href='vscode-notebook-cell:/d%3A/Projects/Projects/Coding/2-%20Self%20Made/Python/Selenium/selenium.ipynb#ch0000002?line=1'>2</a>\u001b[0m     driver \u001b[39m=\u001b[39m webdriver\u001b[39m.\u001b[39;49mChrome()\n\u001b[0;32m      <a href='vscode-notebook-cell:/d%3A/Projects/Projects/Coding/2-%20Self%20Made/Python/Selenium/selenium.ipynb#ch0000002?line=2'>3</a>\u001b[0m     driver\u001b[39m.\u001b[39mget(url)\n\u001b[0;32m      <a href='vscode-notebook-cell:/d%3A/Projects/Projects/Coding/2-%20Self%20Made/Python/Selenium/selenium.ipynb#ch0000002?line=3'>4</a>\u001b[0m     searchBar \u001b[39m=\u001b[39m driver\u001b[39m.\u001b[39mfind_element(By\u001b[39m.\u001b[39mNAME, value\u001b[39m=\u001b[39msearchBarName)\n",
      "File \u001b[1;32mc:\\Users\\acmeg\\AppData\\Local\\Programs\\Python\\Python310\\lib\\site-packages\\selenium\\webdriver\\chrome\\webdriver.py:70\u001b[0m, in \u001b[0;36mWebDriver.__init__\u001b[1;34m(self, executable_path, port, options, service_args, desired_capabilities, service_log_path, chrome_options, service, keep_alive)\u001b[0m\n\u001b[0;32m     <a href='file:///c%3A/Users/acmeg/AppData/Local/Programs/Python/Python310/lib/site-packages/selenium/webdriver/chrome/webdriver.py?line=66'>67</a>\u001b[0m \u001b[39mif\u001b[39;00m \u001b[39mnot\u001b[39;00m service:\n\u001b[0;32m     <a href='file:///c%3A/Users/acmeg/AppData/Local/Programs/Python/Python310/lib/site-packages/selenium/webdriver/chrome/webdriver.py?line=67'>68</a>\u001b[0m     service \u001b[39m=\u001b[39m Service(executable_path, port, service_args, service_log_path)\n\u001b[1;32m---> <a href='file:///c%3A/Users/acmeg/AppData/Local/Programs/Python/Python310/lib/site-packages/selenium/webdriver/chrome/webdriver.py?line=69'>70</a>\u001b[0m \u001b[39msuper\u001b[39;49m(WebDriver, \u001b[39mself\u001b[39;49m)\u001b[39m.\u001b[39;49m\u001b[39m__init__\u001b[39;49m(DesiredCapabilities\u001b[39m.\u001b[39;49mCHROME[\u001b[39m'\u001b[39;49m\u001b[39mbrowserName\u001b[39;49m\u001b[39m'\u001b[39;49m], \u001b[39m\"\u001b[39;49m\u001b[39mgoog\u001b[39;49m\u001b[39m\"\u001b[39;49m,\n\u001b[0;32m     <a href='file:///c%3A/Users/acmeg/AppData/Local/Programs/Python/Python310/lib/site-packages/selenium/webdriver/chrome/webdriver.py?line=70'>71</a>\u001b[0m                                 port, options,\n\u001b[0;32m     <a href='file:///c%3A/Users/acmeg/AppData/Local/Programs/Python/Python310/lib/site-packages/selenium/webdriver/chrome/webdriver.py?line=71'>72</a>\u001b[0m                                 service_args, desired_capabilities,\n\u001b[0;32m     <a href='file:///c%3A/Users/acmeg/AppData/Local/Programs/Python/Python310/lib/site-packages/selenium/webdriver/chrome/webdriver.py?line=72'>73</a>\u001b[0m                                 service_log_path, service, keep_alive)\n",
      "File \u001b[1;32mc:\\Users\\acmeg\\AppData\\Local\\Programs\\Python\\Python310\\lib\\site-packages\\selenium\\webdriver\\chromium\\webdriver.py:92\u001b[0m, in \u001b[0;36mChromiumDriver.__init__\u001b[1;34m(self, browser_name, vendor_prefix, port, options, service_args, desired_capabilities, service_log_path, service, keep_alive)\u001b[0m\n\u001b[0;32m     <a href='file:///c%3A/Users/acmeg/AppData/Local/Programs/Python/Python310/lib/site-packages/selenium/webdriver/chromium/webdriver.py?line=88'>89</a>\u001b[0m \u001b[39mself\u001b[39m\u001b[39m.\u001b[39mservice\u001b[39m.\u001b[39mstart()\n\u001b[0;32m     <a href='file:///c%3A/Users/acmeg/AppData/Local/Programs/Python/Python310/lib/site-packages/selenium/webdriver/chromium/webdriver.py?line=90'>91</a>\u001b[0m \u001b[39mtry\u001b[39;00m:\n\u001b[1;32m---> <a href='file:///c%3A/Users/acmeg/AppData/Local/Programs/Python/Python310/lib/site-packages/selenium/webdriver/chromium/webdriver.py?line=91'>92</a>\u001b[0m     RemoteWebDriver\u001b[39m.\u001b[39;49m\u001b[39m__init__\u001b[39;49m(\n\u001b[0;32m     <a href='file:///c%3A/Users/acmeg/AppData/Local/Programs/Python/Python310/lib/site-packages/selenium/webdriver/chromium/webdriver.py?line=92'>93</a>\u001b[0m         \u001b[39mself\u001b[39;49m,\n\u001b[0;32m     <a href='file:///c%3A/Users/acmeg/AppData/Local/Programs/Python/Python310/lib/site-packages/selenium/webdriver/chromium/webdriver.py?line=93'>94</a>\u001b[0m         command_executor\u001b[39m=\u001b[39;49mChromiumRemoteConnection(\n\u001b[0;32m     <a href='file:///c%3A/Users/acmeg/AppData/Local/Programs/Python/Python310/lib/site-packages/selenium/webdriver/chromium/webdriver.py?line=94'>95</a>\u001b[0m             remote_server_addr\u001b[39m=\u001b[39;49m\u001b[39mself\u001b[39;49m\u001b[39m.\u001b[39;49mservice\u001b[39m.\u001b[39;49mservice_url,\n\u001b[0;32m     <a href='file:///c%3A/Users/acmeg/AppData/Local/Programs/Python/Python310/lib/site-packages/selenium/webdriver/chromium/webdriver.py?line=95'>96</a>\u001b[0m             browser_name\u001b[39m=\u001b[39;49mbrowser_name, vendor_prefix\u001b[39m=\u001b[39;49mvendor_prefix,\n\u001b[0;32m     <a href='file:///c%3A/Users/acmeg/AppData/Local/Programs/Python/Python310/lib/site-packages/selenium/webdriver/chromium/webdriver.py?line=96'>97</a>\u001b[0m             keep_alive\u001b[39m=\u001b[39;49mkeep_alive, ignore_proxy\u001b[39m=\u001b[39;49m_ignore_proxy),\n\u001b[0;32m     <a href='file:///c%3A/Users/acmeg/AppData/Local/Programs/Python/Python310/lib/site-packages/selenium/webdriver/chromium/webdriver.py?line=97'>98</a>\u001b[0m         options\u001b[39m=\u001b[39;49moptions)\n\u001b[0;32m     <a href='file:///c%3A/Users/acmeg/AppData/Local/Programs/Python/Python310/lib/site-packages/selenium/webdriver/chromium/webdriver.py?line=98'>99</a>\u001b[0m \u001b[39mexcept\u001b[39;00m \u001b[39mException\u001b[39;00m:\n\u001b[0;32m    <a href='file:///c%3A/Users/acmeg/AppData/Local/Programs/Python/Python310/lib/site-packages/selenium/webdriver/chromium/webdriver.py?line=99'>100</a>\u001b[0m     \u001b[39mself\u001b[39m\u001b[39m.\u001b[39mquit()\n",
      "File \u001b[1;32mc:\\Users\\acmeg\\AppData\\Local\\Programs\\Python\\Python310\\lib\\site-packages\\selenium\\webdriver\\remote\\webdriver.py:275\u001b[0m, in \u001b[0;36mWebDriver.__init__\u001b[1;34m(self, command_executor, desired_capabilities, browser_profile, proxy, keep_alive, file_detector, options)\u001b[0m\n\u001b[0;32m    <a href='file:///c%3A/Users/acmeg/AppData/Local/Programs/Python/Python310/lib/site-packages/selenium/webdriver/remote/webdriver.py?line=272'>273</a>\u001b[0m \u001b[39mself\u001b[39m\u001b[39m.\u001b[39m_authenticator_id \u001b[39m=\u001b[39m \u001b[39mNone\u001b[39;00m\n\u001b[0;32m    <a href='file:///c%3A/Users/acmeg/AppData/Local/Programs/Python/Python310/lib/site-packages/selenium/webdriver/remote/webdriver.py?line=273'>274</a>\u001b[0m \u001b[39mself\u001b[39m\u001b[39m.\u001b[39mstart_client()\n\u001b[1;32m--> <a href='file:///c%3A/Users/acmeg/AppData/Local/Programs/Python/Python310/lib/site-packages/selenium/webdriver/remote/webdriver.py?line=274'>275</a>\u001b[0m \u001b[39mself\u001b[39;49m\u001b[39m.\u001b[39;49mstart_session(capabilities, browser_profile)\n",
      "File \u001b[1;32mc:\\Users\\acmeg\\AppData\\Local\\Programs\\Python\\Python310\\lib\\site-packages\\selenium\\webdriver\\remote\\webdriver.py:365\u001b[0m, in \u001b[0;36mWebDriver.start_session\u001b[1;34m(self, capabilities, browser_profile)\u001b[0m\n\u001b[0;32m    <a href='file:///c%3A/Users/acmeg/AppData/Local/Programs/Python/Python310/lib/site-packages/selenium/webdriver/remote/webdriver.py?line=362'>363</a>\u001b[0m w3c_caps \u001b[39m=\u001b[39m _make_w3c_caps(capabilities)\n\u001b[0;32m    <a href='file:///c%3A/Users/acmeg/AppData/Local/Programs/Python/Python310/lib/site-packages/selenium/webdriver/remote/webdriver.py?line=363'>364</a>\u001b[0m parameters \u001b[39m=\u001b[39m {\u001b[39m\"\u001b[39m\u001b[39mcapabilities\u001b[39m\u001b[39m\"\u001b[39m: w3c_caps}\n\u001b[1;32m--> <a href='file:///c%3A/Users/acmeg/AppData/Local/Programs/Python/Python310/lib/site-packages/selenium/webdriver/remote/webdriver.py?line=364'>365</a>\u001b[0m response \u001b[39m=\u001b[39m \u001b[39mself\u001b[39;49m\u001b[39m.\u001b[39;49mexecute(Command\u001b[39m.\u001b[39;49mNEW_SESSION, parameters)\n\u001b[0;32m    <a href='file:///c%3A/Users/acmeg/AppData/Local/Programs/Python/Python310/lib/site-packages/selenium/webdriver/remote/webdriver.py?line=365'>366</a>\u001b[0m \u001b[39mif\u001b[39;00m \u001b[39m'\u001b[39m\u001b[39msessionId\u001b[39m\u001b[39m'\u001b[39m \u001b[39mnot\u001b[39;00m \u001b[39min\u001b[39;00m response:\n\u001b[0;32m    <a href='file:///c%3A/Users/acmeg/AppData/Local/Programs/Python/Python310/lib/site-packages/selenium/webdriver/remote/webdriver.py?line=366'>367</a>\u001b[0m     response \u001b[39m=\u001b[39m response[\u001b[39m'\u001b[39m\u001b[39mvalue\u001b[39m\u001b[39m'\u001b[39m]\n",
      "File \u001b[1;32mc:\\Users\\acmeg\\AppData\\Local\\Programs\\Python\\Python310\\lib\\site-packages\\selenium\\webdriver\\remote\\webdriver.py:430\u001b[0m, in \u001b[0;36mWebDriver.execute\u001b[1;34m(self, driver_command, params)\u001b[0m\n\u001b[0;32m    <a href='file:///c%3A/Users/acmeg/AppData/Local/Programs/Python/Python310/lib/site-packages/selenium/webdriver/remote/webdriver.py?line=427'>428</a>\u001b[0m response \u001b[39m=\u001b[39m \u001b[39mself\u001b[39m\u001b[39m.\u001b[39mcommand_executor\u001b[39m.\u001b[39mexecute(driver_command, params)\n\u001b[0;32m    <a href='file:///c%3A/Users/acmeg/AppData/Local/Programs/Python/Python310/lib/site-packages/selenium/webdriver/remote/webdriver.py?line=428'>429</a>\u001b[0m \u001b[39mif\u001b[39;00m response:\n\u001b[1;32m--> <a href='file:///c%3A/Users/acmeg/AppData/Local/Programs/Python/Python310/lib/site-packages/selenium/webdriver/remote/webdriver.py?line=429'>430</a>\u001b[0m     \u001b[39mself\u001b[39;49m\u001b[39m.\u001b[39;49merror_handler\u001b[39m.\u001b[39;49mcheck_response(response)\n\u001b[0;32m    <a href='file:///c%3A/Users/acmeg/AppData/Local/Programs/Python/Python310/lib/site-packages/selenium/webdriver/remote/webdriver.py?line=430'>431</a>\u001b[0m     response[\u001b[39m'\u001b[39m\u001b[39mvalue\u001b[39m\u001b[39m'\u001b[39m] \u001b[39m=\u001b[39m \u001b[39mself\u001b[39m\u001b[39m.\u001b[39m_unwrap_value(\n\u001b[0;32m    <a href='file:///c%3A/Users/acmeg/AppData/Local/Programs/Python/Python310/lib/site-packages/selenium/webdriver/remote/webdriver.py?line=431'>432</a>\u001b[0m         response\u001b[39m.\u001b[39mget(\u001b[39m'\u001b[39m\u001b[39mvalue\u001b[39m\u001b[39m'\u001b[39m, \u001b[39mNone\u001b[39;00m))\n\u001b[0;32m    <a href='file:///c%3A/Users/acmeg/AppData/Local/Programs/Python/Python310/lib/site-packages/selenium/webdriver/remote/webdriver.py?line=432'>433</a>\u001b[0m     \u001b[39mreturn\u001b[39;00m response\n",
      "File \u001b[1;32mc:\\Users\\acmeg\\AppData\\Local\\Programs\\Python\\Python310\\lib\\site-packages\\selenium\\webdriver\\remote\\errorhandler.py:247\u001b[0m, in \u001b[0;36mErrorHandler.check_response\u001b[1;34m(self, response)\u001b[0m\n\u001b[0;32m    <a href='file:///c%3A/Users/acmeg/AppData/Local/Programs/Python/Python310/lib/site-packages/selenium/webdriver/remote/errorhandler.py?line=244'>245</a>\u001b[0m         alert_text \u001b[39m=\u001b[39m value[\u001b[39m'\u001b[39m\u001b[39malert\u001b[39m\u001b[39m'\u001b[39m]\u001b[39m.\u001b[39mget(\u001b[39m'\u001b[39m\u001b[39mtext\u001b[39m\u001b[39m'\u001b[39m)\n\u001b[0;32m    <a href='file:///c%3A/Users/acmeg/AppData/Local/Programs/Python/Python310/lib/site-packages/selenium/webdriver/remote/errorhandler.py?line=245'>246</a>\u001b[0m     \u001b[39mraise\u001b[39;00m exception_class(message, screen, stacktrace, alert_text)  \u001b[39m# type: ignore[call-arg]  # mypy is not smart enough here\u001b[39;00m\n\u001b[1;32m--> <a href='file:///c%3A/Users/acmeg/AppData/Local/Programs/Python/Python310/lib/site-packages/selenium/webdriver/remote/errorhandler.py?line=246'>247</a>\u001b[0m \u001b[39mraise\u001b[39;00m exception_class(message, screen, stacktrace)\n",
      "\u001b[1;31mWebDriverException\u001b[0m: Message: unknown error: cannot create temp dir for user data dir\nStacktrace:\nBacktrace:\n\tOrdinal0 [0x00847413+2389011]\n\tOrdinal0 [0x007D9F61+1941345]\n\tOrdinal0 [0x006CC658+837208]\n\tOrdinal0 [0x006E935A+955226]\n\tOrdinal0 [0x006E5C51+941137]\n\tOrdinal0 [0x00718C80+1150080]\n\tOrdinal0 [0x007188DA+1149146]\n\tOrdinal0 [0x00713F66+1130342]\n\tOrdinal0 [0x006EE546+976198]\n\tOrdinal0 [0x006EF456+980054]\n\tGetHandleVerifier [0x009F9632+1727522]\n\tGetHandleVerifier [0x00AABA4D+2457661]\n\tGetHandleVerifier [0x008DEB81+569713]\n\tGetHandleVerifier [0x008DDD76+566118]\n\tOrdinal0 [0x007E0B2B+1968939]\n\tOrdinal0 [0x007E5988+1989000]\n\tOrdinal0 [0x007E5A75+1989237]\n\tOrdinal0 [0x007EECB1+2026673]\n\tBaseThreadInitThunk [0x7745FA29+25]\n\tRtlGetAppContainerNamedObjectPath [0x77687A7E+286]\n\tRtlGetAppContainerNamedObjectPath [0x77687A4E+238]\n"
     ]
    }
   ],
   "source": [
    "singlePackage(url, searchBarName, key)\n",
    "# multiplePackages(url, searchBarName, keys)"
   ]
  },
  {
   "cell_type": "code",
   "execution_count": null,
   "metadata": {},
   "outputs": [
    {
     "data": {
      "text/plain": [
       "[]"
      ]
     },
     "execution_count": 8,
     "metadata": {},
     "output_type": "execute_result"
    }
   ],
   "source": [
    "resultsArray"
   ]
  },
  {
   "cell_type": "code",
   "execution_count": null,
   "metadata": {},
   "outputs": [],
   "source": [
    "# Saves CSV file\n",
    "import csv\n",
    "with open('results.csv', 'w', newline='') as csvfile:\n",
    "    writer = csv.writer(csvfile, delimiter=',')\n",
    "    writer.writerows(resultsArray)"
   ]
  }
 ],
 "metadata": {
  "interpreter": {
   "hash": "e9fdc8b38eeb13e23080d8401b889c3fdc15778a64593e63aa6185e4d38c6371"
  },
  "kernelspec": {
   "display_name": "Python 3.10.0 64-bit",
   "language": "python",
   "name": "python3"
  },
  "language_info": {
   "codemirror_mode": {
    "name": "ipython",
    "version": 3
   },
   "file_extension": ".py",
   "mimetype": "text/x-python",
   "name": "python",
   "nbconvert_exporter": "python",
   "pygments_lexer": "ipython3",
   "version": "3.10.0"
  },
  "orig_nbformat": 4
 },
 "nbformat": 4,
 "nbformat_minor": 2
}
