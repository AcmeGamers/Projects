{
 "cells": [
  {
   "cell_type": "markdown",
   "id": "2ce50142",
   "metadata": {},
   "source": [
    "# Hypothesis"
   ]
  },
  {
   "cell_type": "markdown",
   "id": "eed4ed57",
   "metadata": {},
   "source": [
    "## Importing Libraries"
   ]
  },
  {
   "cell_type": "code",
   "execution_count": 160,
   "id": "7883f173",
   "metadata": {},
   "outputs": [],
   "source": [
    "from math import sqrt\n",
    "import numpy as np\n",
    "import pandas as pd\n",
    "import scipy.stats as stats\n",
    "import operator\n",
    "import matplotlib.pyplot as plt\n",
    "import numpy as np\n",
    "# import libraries\n",
    "# import os\n",
    "# import csv"
   ]
  },
  {
   "cell_type": "markdown",
   "id": "1baee4b6",
   "metadata": {},
   "source": [
    "## Reading Data"
   ]
  },
  {
   "cell_type": "code",
   "execution_count": 166,
   "id": "67f30086",
   "metadata": {},
   "outputs": [],
   "source": [
    "# Read the CSV into a pandas data frame (df)\n",
    "df = pd.read_csv('ncbirth1450.csv', sep=',')\n",
    "\n",
    "# Headings in the CSV File\n",
    "headings = [\"PLURAL\", \"SEX\", \"MAGE\", \"WEEKS\", \"MARITAL\", \"RACEMOM\", \"HISPMOM\", \"GAINED\", \"SMOKE\", \"DRINK\", \"TOUNCES\", \"TGRAMS\", \"LOW\", \"PREMIE\"]\n",
    "\n",
    "# Filtering rows having #NULL! Data\n",
    "df = df[(df.PLURAL != \"#NULL!\") & (df.SEX !=\"#NULL!\") & (df.MAGE !=\"#NULL!\") & (df.WEEKS !=\"#NULL!\") \n",
    "        & (df.MARITAL !=\"#NULL!\") & (df.RACEMOM !=\"#NULL!\") & (df.HISPMOM !=\"#NULL!\") & (df.GAINED !=\"#NULL!\")\n",
    "        & (df.SMOKE !=\"#NULL!\") & (df.DRINK !=\"#NULL!\") & (df.TOUNCES !=\"#NULL!\") & (df.TGRAMS !=\"#NULL!\") \n",
    "        & (df.LOW !=\"#NULL!\") & (df.PREMIE !=\"#NULL!\") ]\n",
    "\n",
    "# Converting Weeks into Float 64\n",
    "df[\"WEEKS\"] = pd.to_numeric(df[\"WEEKS\"])\n",
    "## print(df[\"WEEKS\"].describe())\n",
    "\n",
    "# Writing Data into New File\n",
    "df.to_csv('csv_file.csv')\n",
    "# print(df)\n",
    "\n",
    "\n",
    "###########\n",
    "# Functions\n",
    "###########\n",
    "# To check if Hypothesis should be rejected or not with P value and Alpha\n",
    "def hypothesisCheck(p_value, alpha):\n",
    "    if p_value < alpha:\n",
    "        print(\"P Value < alpha\")\n",
    "        print(\"There is sufficient evidance to reject Null Hypothesis (H0)\\nAccepting Alternative Hypothesis (H1)\")\n",
    "    elif p_value == alpha:\n",
    "        print(\"P Value == alpha\")\n",
    "        print(\"There is sufficient evidance to reject Null Hypothesis (H0)\\nAccepting Alternative Hypothesis (H1)\")\n",
    "    else:\n",
    "        print(\"P Value > alpha\")\n",
    "        print(\"There is sufficient evidance to accept the Null Hypothesis (H0)\\nRejecting Alternative Hypothesis (H1)\")\n",
    "\n",
    "# To check if Hypothesis should be rejected or not with Test Statistics and Total Critical\n",
    "def hypothesisCheck2(test_static, total_critical):\n",
    "    if test_static > total_critical:\n",
    "        print(\"Test Statics > total_critical\")\n",
    "        print(\"There is sufficient evidance to reject Null Hypothesis (H0)\\nAccepting Alternative Hypothesis (H1)\")\n",
    "    elif test_static < -total_critical:\n",
    "        print(\"Test Statics < -total_critical\")\n",
    "        print(\"There is sufficient evidance to reject Null Hypothesis (H0)\\nAccepting Alternative Hypothesis (H1)\")\n",
    "    else:\n",
    "        print(\"Test Statics < total_critical\")\n",
    "        print(\"There is sufficient evidance to accept the Null Hypothesis (H0)\\nRejecting Alternative Hypothesis (H1)\")\n",
    "\n",
    "ops = { \n",
    "       \"==\": operator.eq, \n",
    "       \">=\": operator.ge,\n",
    "       \"<=\": operator.le,\n",
    "       \">\": operator.gt,\n",
    "       \"<\": operator.lt \n",
    "    } \n",
    "\n",
    "\n",
    "def hypothesisCalculator(\n",
    "    # df                  = DataFram you want to enter\n",
    "    # df_population       = The column of Popluation to test\n",
    "    # df_sample           = The column of Sample to test\n",
    "    # sample_operator     = The operator used to check the condition\n",
    "    # condition           = The value that will be used to check the condition\n",
    "    # confidence_interval = The CI value of your data. Example: 0.05 (95%)\n",
    "    # total_critical      = The total_critical obtained from Degree of Freedom and Confidence Interval\n",
    "    # name                = The name the user would like to choose.\n",
    "    # isPound             = A condition which calculates the data if the obtained data is in pound.\n",
    "    df, \n",
    "    df_population,\n",
    "    df_sample, \n",
    "    sample_operator,\n",
    "    condition,\n",
    "    confidence_interval,\n",
    "    total_critical,\n",
    "    name,\n",
    "    isPound\n",
    "):\n",
    "    \n",
    "    condition = (condition * 16) if (isPound.lower() == \"yes\" or isPound.lower() == \"yeah\") else condition\n",
    "    # print(condition)\n",
    "    sign = []\n",
    "    if sample_operator == \"==\": sign.append(\"equals\")\n",
    "    if sample_operator == \">=\": sign.append(\"is greater than or equal to\")\n",
    "    if sample_operator == \"<=\": sign.append(\"is less than or equal to\")\n",
    "    if sample_operator == \">\": sign.append(\"over\")\n",
    "    if sample_operator == \"<\": sign.append(\"below\")\n",
    "      \n",
    "    # Creating Sample Data Frame and Storing them in Variables\n",
    "    population_DF = df[df_population]\n",
    "    sample_DF = df.sample(frac=0.45) # Random Selection of samples\n",
    "    calculated_sample = sample_DF[df_sample]\n",
    "    \n",
    "    # Calculating Lengths\n",
    "    population_data_length = len(population_DF-1)\n",
    "    sample_data_length = len(calculated_sample-1)\n",
    "    \n",
    "    # Calculating Mean and SD\n",
    "    mean_population_DF = population_DF.mean()\n",
    "    mean_sample_df = calculated_sample.mean()\n",
    "    std_sample_df = np.std(calculated_sample, ddof=1)\n",
    "\n",
    "    # Calculating Degree of Freedom and Test Statitics\n",
    "    degree_of_freedom = sample_data_length - 1\n",
    "    test_static = ((mean_sample_df - condition)/(std_sample_df/sqrt(sample_data_length)))\n",
    "    \n",
    "    # T-Score and P-Value\n",
    "    population_array = np.array(population_DF)\n",
    "    sample_array = np.array(calculated_sample)\n",
    "    tscore, p_value = stats.ttest_1samp(sample_array, condition)\n",
    "    \n",
    "    # Printing the Summary\n",
    "    print(\"Summary\")\n",
    "    print(f\"Popluation Data of {name} =\", population_data_length)\n",
    "    print(f\"Popluation Mean of {name} =\", round(mean_population_DF,2))\n",
    "    \n",
    "    print(\"\")\n",
    "    print(f\"Sample Data of {name} {sign[0]} {condition} =\", sample_data_length)\n",
    "    print(f\"Mean of {name} {sign[0]} {condition} =\", round(mean_sample_df,2))\n",
    "    print(f\"ST.D of {name} {sign[0]} {condition} =\", round(std_sample_df,3))\n",
    "    \n",
    "    print(\"\")\n",
    "    print(\"Confidence Interval =\", confidence_interval)\n",
    "    print(\"Degree of Freedom =\", degree_of_freedom)\n",
    "    print(\"Test Critical =\", round(total_critical,3))\n",
    "    print(\"Test Statics = \", round(test_static,3))\n",
    "\n",
    "    print(\"\")\n",
    "    print(\"T-Score = \", round(tscore,3))\n",
    "    print(\"P-Value = \", round(p_value,3))\n",
    "    \n",
    "    print(\"\")\n",
    "    hypothesisCheck(p_value, confidence_interval)\n",
    "    # hypothesisCheck2(tscore, p_value)\n",
    "    sign.clear()\n",
    "    print(\"------------------------------------\")\n",
    "    print(\"\")"
   ]
  },
  {
   "cell_type": "markdown",
   "id": "f61656ad",
   "metadata": {},
   "source": [
    "## Frequency Tables"
   ]
  },
  {
   "cell_type": "code",
   "execution_count": 162,
   "id": "10a7cc61",
   "metadata": {},
   "outputs": [
    {
     "name": "stdout",
     "output_type": "stream",
     "text": [
      "##################\n",
      "# Frequency Tables\n",
      "##################\n",
      "# Low Birth Weighs\n",
      "col_0  Count  Percentage\n",
      "LOW                     \n",
      "0       1290       91.55\n",
      "1        119        8.45\n",
      "\n",
      "# Smokers\n",
      "col_0  Count  Percentage\n",
      "SMOKE                   \n",
      "0       1203       85.38\n",
      "1        206       14.62\n",
      "\n"
     ]
    }
   ],
   "source": [
    "##################\n",
    "# Frequency Tables\n",
    "##################\n",
    "print(\"##################\\n# Frequency Tables\\n##################\")\n",
    "\n",
    "# Low Birth Weighs\n",
    "lowBirthWeighs = pd.crosstab(index=df['LOW'], columns=['Count'])\n",
    "lowBirthWeighs['Percentage'] = ((lowBirthWeighs/lowBirthWeighs.sum())*100).round(2)\n",
    "print(\"# Low Birth Weighs\")\n",
    "print(lowBirthWeighs)\n",
    "print(\"\")\n",
    "\n",
    "# Smokers\n",
    "Smokers = pd.crosstab(index=df['SMOKE'], columns=['Count'])\n",
    "Smokers['Percentage'] = ((Smokers/Smokers.sum())*100).round(2)\n",
    "print(\"# Smokers\")\n",
    "print(Smokers)\n",
    "print(\"\")\n",
    "\n"
   ]
  },
  {
   "cell_type": "markdown",
   "id": "91ac3618",
   "metadata": {},
   "source": [
    "## Summary Table"
   ]
  },
  {
   "cell_type": "code",
   "execution_count": 145,
   "id": "3a1808b1",
   "metadata": {},
   "outputs": [
    {
     "name": "stdout",
     "output_type": "stream",
     "text": [
      "################\n",
      "# Summary Tables\n",
      "################\n",
      "\n",
      "        WEEKS   MAGE  TOUNCES\n",
      "mean    38.65  26.79   116.44\n",
      "median  39.00  26.00   118.00\n",
      "std      2.65   6.09    22.13\n",
      "min     22.00  13.00    12.00\n",
      "max     45.00  43.00   181.00\n"
     ]
    }
   ],
   "source": [
    "################\n",
    "# Summary Tables\n",
    "################\n",
    "print(\"################\\n# Summary Tables\\n################\")\n",
    "print(\"\")\n",
    "[\"Mean\", \"Median\", \"Standard Deviation\", \"Minimum\", \"Maximum\"]\n",
    "\n",
    "print(df.agg(\n",
    "    {\n",
    "        \"WEEKS\": [\"mean\", \"median\", \"std\",  \"min\", \"max\"],\n",
    "        \"MAGE\":  [\"mean\", \"median\", \"std\",  \"min\", \"max\"],\n",
    "        \"TOUNCES\":  [\"mean\", \"median\", \"std\",  \"min\", \"max\"],\n",
    "    }\n",
    ").round(2))\n",
    "\n"
   ]
  },
  {
   "cell_type": "markdown",
   "id": "5e4f0acc",
   "metadata": {},
   "source": [
    "## Results"
   ]
  },
  {
   "cell_type": "markdown",
   "id": "5f47f1b7",
   "metadata": {},
   "source": [
    "### Test 1"
   ]
  },
  {
   "cell_type": "code",
   "execution_count": 167,
   "id": "c2dd031f",
   "metadata": {},
   "outputs": [
    {
     "name": "stdout",
     "output_type": "stream",
     "text": [
      "\n",
      "################\n",
      "# a) Age Over 25\n",
      "################\n",
      "\n",
      "H0 = If the mean age is not over 25.\n",
      "H1 = If the mean age is over 25.\n",
      "\n",
      "Summary\n",
      "Popluation Data of M.Age = 1409\n",
      "Popluation Mean of M.Age = 26.79\n",
      "\n",
      "Sample Data of M.Age over 25 = 634\n",
      "Mean of M.Age over 25 = 26.96\n",
      "ST.D of M.Age over 25 = 6.203\n",
      "\n",
      "Confidence Interval = 0.05\n",
      "Degree of Freedom = 633\n",
      "Test Critical = 1.963\n",
      "Test Statics =  7.939\n",
      "\n",
      "T-Score =  7.939\n",
      "P-Value =  0.0\n",
      "\n",
      "P Value < alpha\n",
      "There is sufficient evidance to reject Null Hypothesis (H0)\n",
      "Accepting Alternative Hypothesis (H1)\n",
      "------------------------------------\n",
      "\n"
     ]
    }
   ],
   "source": [
    "##################\n",
    "# a) Age Over 25 : Confidence Interval = 95%\n",
    "##################\n",
    "# Note, in this step, we want to test that our data \n",
    "## has woman aging over 25 when giving birth\n",
    "print(\"\")\n",
    "print(\"################\\n# a) Age Over 25\\n################\")\n",
    "\n",
    "print(\"\")\n",
    "print(\"H0 = If the mean age is not over 25.\")\n",
    "print(\"H1 = If the mean age is over 25.\")\n",
    "print(\"\")\n",
    "\n",
    "hypothesisCalculator(df, \"MAGE\", \"MAGE\", \">\", 25, 0.05, 1.962979, \"M.Age\", \"No\")\n",
    "\n"
   ]
  },
  {
   "cell_type": "markdown",
   "id": "b45eb98d",
   "metadata": {},
   "source": [
    "### Test 2"
   ]
  },
  {
   "cell_type": "code",
   "execution_count": 168,
   "id": "eff6a1ad",
   "metadata": {},
   "outputs": [
    {
     "name": "stdout",
     "output_type": "stream",
     "text": [
      "\n",
      "###################\n",
      "# b) Below 39 Weeks\n",
      "###################\n",
      "\n",
      "H0 = If the mean week of mothers giving brith have not gone below 39 Weeks.\n",
      "H1 = If the mean week of mothers giving brith have gone below 39 Weeks.\n",
      "\n",
      "Summary\n",
      "Popluation Data of Weeks = 1409\n",
      "Popluation Mean of Weeks = 38.65\n",
      "\n",
      "Sample Data of Weeks below 39 = 634\n",
      "Mean of Weeks below 39 = 38.69\n",
      "ST.D of Weeks below 39 = 2.636\n",
      "\n",
      "Confidence Interval = 0.05\n",
      "Degree of Freedom = 633\n",
      "Test Critical = 1.964\n",
      "Test Statics =  -2.923\n",
      "\n",
      "T-Score =  -2.923\n",
      "P-Value =  0.004\n",
      "\n",
      "P Value < alpha\n",
      "There is sufficient evidance to reject Null Hypothesis (H0)\n",
      "Accepting Alternative Hypothesis (H1)\n",
      "------------------------------------\n",
      "\n"
     ]
    }
   ],
   "source": [
    "#####################\n",
    "# b) Below 39 Weeks : Confidence Interval = 95%\n",
    "#####################\n",
    "# Note, in this step, we want to test that our data\n",
    "## has woman that gave birth before 39 weeks\n",
    "print(\"\")\n",
    "print(\"###################\\n# b) Below 39 Weeks\\n###################\")\n",
    "\n",
    "print(\"\")\n",
    "print(\"H0 = If the mean week of mothers giving brith have not gone below 39 Weeks.\")\n",
    "print(\"H1 = If the mean week of mothers giving brith have gone below 39 Weeks.\")\n",
    "print(\"\")\n",
    "\n",
    "hypothesisCalculator(df, \"WEEKS\", \"WEEKS\", \"<\", 39, 0.05, 1.9643, \"Weeks\", \"No\")\n",
    "\n"
   ]
  },
  {
   "cell_type": "markdown",
   "id": "6f8c060c",
   "metadata": {},
   "source": [
    "### Test 3"
   ]
  },
  {
   "cell_type": "code",
   "execution_count": 169,
   "id": "8961034e",
   "metadata": {},
   "outputs": [
    {
     "name": "stdout",
     "output_type": "stream",
     "text": [
      "\n",
      "###############\n",
      "# c) Above 7lbs\n",
      "###############\n",
      "\n",
      "H0 = If the mean weight of babies have not gone above 7.\n",
      "H1 = If the mean weight of babies have gone above 7.\n",
      "\n",
      "Summary\n",
      "Popluation Data of Pounds = 1409\n",
      "Popluation Mean of Pounds = 116.44\n",
      "\n",
      "Sample Data of Pounds over 112 = 634\n",
      "Mean of Pounds over 112 = 117.08\n",
      "ST.D of Pounds over 112 = 22.054\n",
      "\n",
      "Confidence Interval = 0.05\n",
      "Degree of Freedom = 633\n",
      "Test Critical = 1.963\n",
      "Test Statics =  5.797\n",
      "\n",
      "T-Score =  5.797\n",
      "P-Value =  0.0\n",
      "\n",
      "P Value < alpha\n",
      "There is sufficient evidance to reject Null Hypothesis (H0)\n",
      "Accepting Alternative Hypothesis (H1)\n",
      "------------------------------------\n",
      "\n"
     ]
    }
   ],
   "source": [
    "#################\n",
    "# c) Above 7lbs : Confidence Interval = 95%\n",
    "#################\n",
    "# Note, in this step, we want to test that our data\n",
    "## has babies weighing over 7lbs\n",
    "print(\"\")\n",
    "print(\"###############\\n# c) Above 7lbs\\n###############\")\n",
    "\n",
    "print(\"\")\n",
    "print(\"H0 = If the mean weight of babies have not gone above 7.\")\n",
    "print(\"H1 = If the mean weight of babies have gone above 7.\")\n",
    "print(\"\")\n",
    "\n",
    "hypothesisCalculator(df, \"TOUNCES\", \"TOUNCES\", \">\", 7, 0.05, 1.9627, \"Pounds\", \"Yes\") # \"Yeah\" is also an option\n"
   ]
  },
  {
   "cell_type": "markdown",
   "id": "66d352cb",
   "metadata": {},
   "source": [
    "### Test 4"
   ]
  },
  {
   "cell_type": "code",
   "execution_count": 170,
   "id": "0cdcbc10",
   "metadata": {},
   "outputs": [
    {
     "name": "stdout",
     "output_type": "stream",
     "text": [
      "#############################################\n",
      "# d) Sample Touces of Smokers and Non-Smokers\n",
      "#############################################\n",
      "\n",
      "Considering from the mapping of plot, the data is likely that mean weight of smokers are less than the non-smokers\n"
     ]
    },
    {
     "data": {
      "image/png": "[encoded data removed]",
      "text/plain": [
       "<Figure size 432x288 with 1 Axes>"
      ]
     },
     "metadata": {
      "needs_background": "light"
     },
     "output_type": "display_data"
    },
    {
     "name": "stdout",
     "output_type": "stream",
     "text": [
      "#######################################\n",
      "# Mean Tounces of Smokers < Non-smokers\n",
      "#######################################\n",
      "\n",
      "H0 = If the mean tounces of women isn't less than non-smoking women.\n",
      "H1 = If the mean tounces of women is less than non-smoking women\n",
      "\n",
      "\n",
      "Summary\n",
      "Non-Smokers mean value: 109.29\n",
      "Smokers mean value: 117.67\n",
      "\n",
      "Non-Smokers std value: 21.67\n",
      "Smokers std value: 21.961\n",
      "\n",
      "alpha = 0.05\n",
      "p-value = 0.752\n",
      "\n",
      "P Value > alpha\n",
      "There is sufficient evidance to accept the Null Hypothesis (H0)\n",
      "Rejecting Alternative Hypothesis (H1)\n"
     ]
    }
   ],
   "source": [
    "#############################################\n",
    "# d) Sample Touces of Smokers and Non-Smokers\n",
    "#############################################\n",
    "\n",
    "print(\"#############################################\\n# d) Sample Touces of Smokers and Non-Smokers\\n#############################################\")\n",
    "# Considering from the mapping of plot, the data is likely that mean weight of smokers are higher than the non-smokers\n",
    "print(\"\")\n",
    "print(\"Considering from the mapping of plot, the data is likely that mean weight of smokers are less than the non-smokers\")\n",
    "# Non-Smokers Data\n",
    "non_smokers_df = df[(df['SMOKE']>\"0\")]\n",
    "non_smokers_df = non_smokers_df[\"TOUNCES\"]\n",
    "non_smokers_df_array = np.array(non_smokers_df)\n",
    "non_smokers_data = non_smokers_df_array\n",
    "\n",
    "# Smokers Data\n",
    "smokers_df = df[(df['SMOKE']<\"1\")]\n",
    "smokers_df = smokers_df[\"TOUNCES\"]\n",
    "smokers_df_array = np.array(smokers_df)\n",
    "smokers_data = smokers_df_array\n",
    "\n",
    "data = [non_smokers_df_array, smokers_df_array]\n",
    "\n",
    "# Creating Plots\n",
    "fig, ax = plt.subplots()\n",
    "ax.boxplot(data, patch_artist=True, meanline=True, showmeans=True)\n",
    "plt.xticks([1, 2], [\"Non-Smokers\", \"Smokers\"])\n",
    "\n",
    "# showing plot\n",
    "plt.show()\n",
    "\n",
    "#######################################\n",
    "# Mean Tounces of Smokers < Non-smokers\n",
    "#######################################\n",
    "print(\"#######################################\\n# Mean Tounces of Smokers < Non-smokers\\n#######################################\")\n",
    "print(\"\")\n",
    "print(\"H0 = If the mean tounces of women isn't less than non-smoking women.\")\n",
    "print(\"H1 = If the mean tounces of women is less than non-smoking women\")\n",
    "print(\"\")\n",
    "# print(smokers_df.describe())\n",
    "# print(stats.shapiro(smokers_df))\n",
    "# print(non_smokers_df.describe())\n",
    "# print(stats.shapiro(non_smokers_df))\n",
    "# print(stats.levene(smokers_df, non_smokers_df))\n",
    "# res = stats.ttest_ind(non_smokers_df, smokers_df)\n",
    "\n",
    "print(\"\")\n",
    "print(\"Summary\")\n",
    "non_smokers_data_mean = np.mean(non_smokers_data)\n",
    "smokers_data_mean = np.mean(smokers_data)\n",
    "print(\"Non-Smokers mean value:\",round(non_smokers_data_mean, 2))\n",
    "print(\"Smokers mean value:\",round(smokers_data_mean, 2))\n",
    "\n",
    "print(\"\")\n",
    "non_smokers_data_std = np.std(non_smokers_data)\n",
    "smokers_data_std = np.std(smokers_data)\n",
    "print(\"Non-Smokers std value:\",round(non_smokers_data_std, 3))\n",
    "print(\"Smokers std value:\",round(smokers_data_std,3))\n",
    "\n",
    "print(\"\")\n",
    "ttest,pval = stats.levene(smokers_df, non_smokers_df)\n",
    "print(\"alpha =\", 0.05)\n",
    "print(\"p-value =\", round(pval,3))\n",
    "\n",
    "print(\"\")\n",
    "hypothesisCheck(pval, 0.05)\n",
    "\n"
   ]
  },
  {
   "cell_type": "markdown",
   "id": "551842a0",
   "metadata": {},
   "source": [
    "### Test 5"
   ]
  },
  {
   "cell_type": "code",
   "execution_count": 172,
   "id": "66968e4c",
   "metadata": {},
   "outputs": [
    {
     "name": "stdout",
     "output_type": "stream",
     "text": [
      "\n",
      "######################\n",
      "# e) Tounces Above 110\n",
      "######################\n",
      "\n",
      "H0 = If the mean weight of babies isn't above 110 tounces.\n",
      "H1 = If the mean weight of babies is above 110 tounces.\n",
      "\n",
      "Summary\n",
      "Popluation Data of Weight = 1409\n",
      "Popluation Mean of Weight = 116.44\n",
      "\n",
      "Sample Data of Weight over 110 = 634\n",
      "Mean of Weight over 110 = 115.97\n",
      "ST.D of Weight over 110 = 22.492\n",
      "\n",
      "Confidence Interval = 0.05\n",
      "Degree of Freedom = 633\n",
      "Test Critical = 1.963\n",
      "Test Statics =  6.682\n",
      "\n",
      "T-Score =  6.682\n",
      "P-Value =  0.0\n",
      "\n",
      "P Value < alpha\n",
      "There is sufficient evidance to reject Null Hypothesis (H0)\n",
      "Accepting Alternative Hypothesis (H1)\n",
      "------------------------------------\n",
      "\n"
     ]
    }
   ],
   "source": [
    "######################\n",
    "# e) Tounces Above 110 : Confidence Interval = 95%\n",
    "######################\n",
    "# Note, in this step, we want to test that our data\n",
    "## If woman that gave birth have babies weighing above 110.\n",
    "print(\"\")\n",
    "print(\"######################\\n# e) Tounces Above 110\\n######################\")\n",
    "\n",
    "print(\"\")\n",
    "print(\"H0 = If the mean weight of babies isn't above 110 tounces.\")\n",
    "print(\"H1 = If the mean weight of babies is above 110 tounces.\")\n",
    "print(\"\")\n",
    "\n",
    "hypothesisCalculator(df, \"TOUNCES\", \"TOUNCES\", \">\", 110, 0.05, 1.9627, \"Weight\", \"No\")"
   ]
  }
 ],
 "metadata": {
  "kernelspec": {
   "display_name": "Python 3",
   "language": "python",
   "name": "python3"
  },
  "language_info": {
   "codemirror_mode": {
    "name": "ipython",
    "version": 3
   },
   "file_extension": ".py",
   "mimetype": "text/x-python",
   "name": "python",
   "nbconvert_exporter": "python",
   "pygments_lexer": "ipython3",
   "version": "3.8.8"
  }
 },
 "nbformat": 4,
 "nbformat_minor": 5
}
