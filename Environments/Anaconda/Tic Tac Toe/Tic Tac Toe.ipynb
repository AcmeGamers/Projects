{
 "cells": [
  {
   "cell_type": "markdown",
   "metadata": {},
   "source": [
    "# Tic Tac Toe Game"
   ]
  },
  {
   "cell_type": "markdown",
   "metadata": {},
   "source": [
    "*Exercise 1:* Write a function that creates an n by n matrix (of list of lists) which will represent the state of a Tie Tac Toe game. Let 0, 1, and 2 represent empty, \"X\", and \"O\", respectively.\n"
   ]
  },
  {
   "cell_type": "code",
   "execution_count": 33,
   "metadata": {},
   "outputs": [],
   "source": [
    "# Write you solution here\n",
    "def make_game(size=3):\n",
    "    Tic_Tac_Toe=[[0]*size for i in range(size)]\n",
    "    return Tic_Tac_Toe"
   ]
  },
  {
   "cell_type": "code",
   "execution_count": 34,
   "metadata": {},
   "outputs": [
    {
     "data": {
      "text/plain": [
       "[[0, 0, 0], [0, 0, 0], [0, 0, 0]]"
      ]
     },
     "execution_count": 34,
     "metadata": {},
     "output_type": "execute_result"
    }
   ],
   "source": [
    "game = make_game(3)\n",
    "game"
   ]
  },
  {
   "cell_type": "markdown",
   "metadata": {},
   "source": [
    "*Exercise 2:* Write a function that takes a `n` by `n` matrix representing a tic-tac-toe game, and returns -1, 0, 1, or 2 indicating the game is incomplete, the game is a draw, player 1 has won, or player 2 has one, respectively. Here are some example inputs you can use to test your code:"
   ]
  },
  {
   "cell_type": "code",
   "execution_count": 35,
   "metadata": {},
   "outputs": [
    {
     "data": {
      "text/plain": [
       "' '"
      ]
     },
     "execution_count": 35,
     "metadata": {},
     "output_type": "execute_result"
    }
   ],
   "source": [
    "# Write you solution here\n",
    "def make_game_board(num_rows,num_cols):\n",
    "    # Empty Board Value\n",
    "    empty = ' '\n",
    "    # Creates a range of empty values\n",
    "    board = [[empty]*num_cols for i in range(num_rows)]\n",
    "    \n",
    "    # Creating global list\n",
    "    global row_names, row_map, column_names, column_map\n",
    "    \n",
    "    ## Row\n",
    "    row_names = list(\"ABCDEFGHIJKLMNOPQRSTUVWXYZ\") # Creates a list of row names\n",
    "    row_map = dict(zip(row_names,range(num_rows))) # Maps each row name to a row number\n",
    "    \n",
    "    ## Column\n",
    "    column_names = list(map(str,range(1,num_cols+1))) # Creates a list of column names\n",
    "    column_map = dict(zip(column_names,range(num_cols))) # maps each column name to a column number\n",
    "    \n",
    "    return board\n",
    "value = make_game_board(2,2)\n",
    "value[0][0]"
   ]
  },
  {
   "cell_type": "code",
   "execution_count": 36,
   "metadata": {},
   "outputs": [],
   "source": [
    "# Write you solution here\n",
    "def draw_board(board):\n",
    "    num_rows = len(board)\n",
    "    num_cols = len(board[0])\n",
    "      \n",
    "    print(\"  \",end=\" \")\n",
    "    for i in range(num_cols):\n",
    "        print(column_names[i],end=\" \")\n",
    "        print(\" \",end = \" \")\n",
    "    \n",
    "    print()\n",
    "    print(\"  \",end=\" \")\n",
    "    print(\"----\"*num_cols)\n",
    "    for i in range(num_rows):\n",
    "        print(row_names[i],end=\" \")\n",
    "        print(\"|\",end=\" \")\n",
    "        for j in range(num_cols):\n",
    "            print(board[i][j],end=\" \")\n",
    "            print(\"|\",end=\" \")\n",
    "        print()  \n",
    "        print(\"  \",end=\" \")\n",
    "        print(\"----\"*num_cols)"
   ]
  },
  {
   "cell_type": "code",
   "execution_count": 37,
   "metadata": {},
   "outputs": [
    {
     "name": "stdout",
     "output_type": "stream",
     "text": [
      "   1   2   3   4   5   \n",
      "   --------------------\n",
      "A |   |   |   |   |   | \n",
      "   --------------------\n",
      "B |   |   |   |   |   | \n",
      "   --------------------\n",
      "C |   |   |   |   |   | \n",
      "   --------------------\n",
      "D |   |   |   |   |   | \n",
      "   --------------------\n"
     ]
    }
   ],
   "source": [
    "# Test your solution here\n",
    "board2 = make_game_board(4,5)\n",
    "draw_board(board2)"
   ]
  },
  {
   "cell_type": "markdown",
   "metadata": {},
   "source": [
    "*Exercise 3:* Write a function that takes 2 integers `n` and `m` as input and draws a `n` by `m` game board. For example the following is a 3x3 board:\n",
    "```\n",
    "   --- --- --- \n",
    "  |   |   |   | \n",
    "   --- --- ---  \n",
    "  |   |   |   | \n",
    "   --- --- ---  \n",
    "  |   |   |   | \n",
    "   --- --- --- \n",
    "   ```"
   ]
  },
  {
   "cell_type": "code",
   "execution_count": 38,
   "metadata": {
    "collapsed": true
   },
   "outputs": [],
   "source": [
    "# Write you solution here\n",
    "def draw_board(n,m):\n",
    "    for i in range(n):\n",
    "        print(\" --- \" * m)\n",
    "        print((\"|    \" * (m+1)))\n",
    "    print(\" --- \"*m)\n",
    "    "
   ]
  },
  {
   "cell_type": "code",
   "execution_count": 39,
   "metadata": {},
   "outputs": [
    {
     "name": "stdout",
     "output_type": "stream",
     "text": [
      " ---  ---  --- \n",
      "|    |    |    |    \n",
      " ---  ---  --- \n",
      "|    |    |    |    \n",
      " ---  ---  --- \n",
      "|    |    |    |    \n",
      " ---  ---  --- \n"
     ]
    }
   ],
   "source": [
    "draw_board(3,3)"
   ]
  },
  {
   "cell_type": "markdown",
   "metadata": {},
   "source": [
    "*Exercise 4:* Modify exercise 3, so that it takes a matrix of the form from exercise 2 and draws a tic-tac-tie board with \"X\"s and \"O\"s.  "
   ]
  },
  {
   "cell_type": "code",
   "execution_count": 40,
   "metadata": {
    "collapsed": true
   },
   "outputs": [],
   "source": [
    "# Write you solution here\n",
    "def draw_tic_tac_toe(matrix):\n",
    "  l = len(matrix)\n",
    "    \n",
    "  for i in range(l):\n",
    "      if i!=0:\n",
    "        print(\"\\n-----------\")\n",
    "      for j in range(l):\n",
    "        var = matrix[i][j]\n",
    "        if var == 1:\n",
    "          var = \"X\"\n",
    "        if var == 2:\n",
    "            var = \"O\"\n",
    "        if var == 0:\n",
    "            var = \" \"\n",
    "        \n",
    "        if j!=0:\n",
    "          print(\" | \"+var+\"\",end=\"\")\n",
    "        \n",
    "        if j==0:\n",
    "          print(\" \"+var, end=\"\")\n",
    "      "
   ]
  },
  {
   "cell_type": "code",
   "execution_count": 41,
   "metadata": {},
   "outputs": [
    {
     "name": "stdout",
     "output_type": "stream",
     "text": [
      " X | O | O\n",
      "-----------\n",
      " O | X | O\n",
      "-----------\n",
      " O | X | X"
     ]
    }
   ],
   "source": [
    "draw_tic_tac_toe([[1,2,2], [2,1,2], [2, 1, 1]])"
   ]
  },
  {
   "cell_type": "code",
   "execution_count": 42,
   "metadata": {},
   "outputs": [
    {
     "name": "stdout",
     "output_type": "stream",
     "text": [
      " X | O | O\n",
      "-----------\n",
      " O | X | X\n",
      "-----------\n",
      " X | X | O"
     ]
    }
   ],
   "source": [
    "# Test your solution here\n",
    "no_winner = [[1,2,2], [2,1,1], [1, 1, 2]]\n",
    "draw_tic_tac_toe(no_winner)"
   ]
  },
  {
   "cell_type": "markdown",
   "metadata": {},
   "source": [
    "*Exercise 5:* Write a function that takes a game board, player number, and `(x,y)` coordinates and places \"X\" or \"O\" in the correct location of the game board. Make sure that you only allow filling previously empty locations. Return `True` or `False` to indicate successful placement of \"X\" or \"O\"."
   ]
  },
  {
   "cell_type": "code",
   "execution_count": 43,
   "metadata": {
    "collapsed": true
   },
   "outputs": [],
   "source": [
    "# Write you solution here\n",
    "def place_on_board(matrix,player_number,x_coordinate,y_coordinate):\n",
    "  player_1_piece = \"X\"\n",
    "  player_2_piece = \"O\"\n",
    "  empty_space = \" \"\n",
    "  if matrix[x_coordinate][y_coordinate]!=0:\n",
    "    matrix[x_coordinate][y_coordinate] = empty_space\n",
    "    return False\n",
    "  elif player_number == 1:\n",
    "    matrix[x_coordinate][y_coordinate] = player_1_piece\n",
    "    return True\n",
    "  elif player_number == 2:\n",
    "    matrix[x_coordinate][y_coordinate] = player_2_piece\n",
    "    return True"
   ]
  },
  {
   "cell_type": "code",
   "execution_count": 44,
   "metadata": {},
   "outputs": [
    {
     "name": "stdout",
     "output_type": "stream",
     "text": [
      "   |   |  \n",
      "-----------\n",
      "   |   | O\n",
      "-----------\n",
      "   |   | X"
     ]
    }
   ],
   "source": [
    "# Test your solution here\n",
    "board=make_game()\n",
    "\n",
    "## Marking the board\n",
    "place_on_board(board,1,2,2)\n",
    "place_on_board(board,2,1,2)\n",
    "\n",
    "draw_tic_tac_toe(board)"
   ]
  },
  {
   "cell_type": "markdown",
   "metadata": {},
   "source": [
    "*Exercise 6:* Modify Exercise 4 to show column and row labels so that players can specify location using \"A2\" or \"C1\"."
   ]
  },
  {
   "cell_type": "code",
   "execution_count": 45,
   "metadata": {
    "collapsed": true
   },
   "outputs": [],
   "source": [
    "# Write you solution here\n",
    "def draw_tic_tac_toe_updated(matrix):\n",
    "  l = len(matrix)\n",
    "  print(\"  1   2   3\")\n",
    "\n",
    "  for i in range(l):\n",
    "    if i!=0:\n",
    "      print(\"\\n  ----------\")\n",
    "    for j in range(l):\n",
    "      var = matrix[i][j]\n",
    "    if var == 1:\n",
    "        var = \"X\"\n",
    "    if var == 2:\n",
    "        var = \"O\"\n",
    "    if var == 0:\n",
    "        var = \" \"\n",
    "    if i==0 and j==0:\n",
    "        print(\"A \",end=\"\")\n",
    "    if i==1 and j==0:\n",
    "        print(\"B \",end=\"\")\n",
    "    if i==2 and j==0:\n",
    "        print(\"C \",end=\"\")\n",
    "    if j!=0:\n",
    "      print(\"| \"+var+\" \",end=\"\")\n",
    "    if j==0:\n",
    "      print(\" \"+var,end=\"\")"
   ]
  },
  {
   "cell_type": "code",
   "execution_count": 46,
   "metadata": {},
   "outputs": [
    {
     "name": "stdout",
     "output_type": "stream",
     "text": [
      "  1   2   3\n",
      "| O \n",
      "  ----------\n",
      "| X \n",
      "  ----------\n",
      "| O "
     ]
    }
   ],
   "source": [
    "# Test your solution here\n",
    "draw_tic_tac_toe_updated(no_winner)"
   ]
  },
  {
   "cell_type": "markdown",
   "metadata": {},
   "source": [
    "*Exercise 7:* Write a function that takes a board, player number, and location specified as in exercise 6 and then calls exercise 5 to correctly modify the board.  "
   ]
  },
  {
   "cell_type": "code",
   "execution_count": 47,
   "metadata": {},
   "outputs": [],
   "source": [
    "# Test your solution here\n",
    "def parse_location(location_string):\n",
    "    if not isinstance(location_string,str):\n",
    "        print(\"Bad input. Location must be a string.\")\n",
    "        return False\n",
    "    \n",
    "    if len(location_string) != 2:\n",
    "        print(\"Bad input. Location must be 2 characters.\")\n",
    "        return False\n",
    "    \n",
    "    row = location_string[0].upper()\n",
    "    column = location_string[1]\n",
    "         \n",
    "    if not row in row_names:\n",
    "        print(\"Bad input. Row must be one of:\",row_names)\n",
    "        return False\n",
    "    \n",
    "    if not column in column_names:\n",
    "        print(\"Bad input. Column must be one of:\",column_names)\n",
    "        return False\n",
    "    \n",
    "    row_number = row_map[row]\n",
    "    column_number = column_map[column]\n",
    "     \n",
    "    return row_number, column_number\n",
    " \n",
    "    "
   ]
  },
  {
   "cell_type": "code",
   "execution_count": 48,
   "metadata": {},
   "outputs": [
    {
     "name": "stdout",
     "output_type": "stream",
     "text": [
      " X |   |  \n",
      "-----------\n",
      "   |   |  \n",
      "-----------\n",
      " O |   |  "
     ]
    }
   ],
   "source": [
    "# Write you solution here\n",
    "def nice_make_move(board,player,location):\n",
    "    row, column = parse_location(location)\n",
    "    if place_on_board(board,player,row,column):\n",
    "        return True\n",
    "    else:\n",
    "        return False     \n",
    "\n",
    "# Test your solution here\n",
    "board=make_game()\n",
    "\n",
    "## Marking the board\n",
    "nice_make_move(board,1,'a1')\n",
    "nice_make_move(board,2,'c1')\n",
    "\n",
    "draw_tic_tac_toe(board)"
   ]
  },
  {
   "cell_type": "markdown",
   "metadata": {},
   "source": [
    "*Exercise 8:* Write a function is called with a board and player number, takes input from the player using python's `input`, and modifies the board using your function from exercise 7. Note that you should keep asking for input until you have gotten a valid input that results in a valid move."
   ]
  },
  {
   "cell_type": "code",
   "execution_count": 49,
   "metadata": {},
   "outputs": [],
   "source": [
    "# Write you solution here\n",
    "def make_move(board,player):\n",
    "    location = input(\"Player \" + str(player) + \", enter a location: \")\n",
    "    if nice_make_move(board,player,location):\n",
    "        return True\n",
    "    else:\n",
    "        print(\"Invalid move. Try again.\")\n",
    "        return False\n",
    "     "
   ]
  },
  {
   "cell_type": "code",
   "execution_count": 50,
   "metadata": {
    "collapsed": true
   },
   "outputs": [
    {
     "name": "stdout",
     "output_type": "stream",
     "text": [
      "Invalid move. Try again.\n",
      "Invalid move. Try again.\n",
      "Bad input. Location must be 2 characters.\n"
     ]
    },
    {
     "ename": "TypeError",
     "evalue": "cannot unpack non-iterable bool object",
     "output_type": "error",
     "traceback": [
      "\u001b[1;31m---------------------------------------------------------------------------\u001b[0m",
      "\u001b[1;31mTypeError\u001b[0m                                 Traceback (most recent call last)",
      "\u001b[1;32m~\\AppData\\Local\\Temp/ipykernel_4516/3780802954.py\u001b[0m in \u001b[0;36m<module>\u001b[1;34m\u001b[0m\n\u001b[0;32m      6\u001b[0m \u001b[0mmake_move\u001b[0m\u001b[1;33m(\u001b[0m\u001b[0mboard\u001b[0m\u001b[1;33m,\u001b[0m\u001b[1;36m2\u001b[0m\u001b[1;33m)\u001b[0m\u001b[1;33m\u001b[0m\u001b[1;33m\u001b[0m\u001b[0m\n\u001b[0;32m      7\u001b[0m \u001b[0mmake_move\u001b[0m\u001b[1;33m(\u001b[0m\u001b[0mboard\u001b[0m\u001b[1;33m,\u001b[0m\u001b[1;36m1\u001b[0m\u001b[1;33m)\u001b[0m\u001b[1;33m\u001b[0m\u001b[1;33m\u001b[0m\u001b[0m\n\u001b[1;32m----> 8\u001b[1;33m \u001b[0mmake_move\u001b[0m\u001b[1;33m(\u001b[0m\u001b[0mboard\u001b[0m\u001b[1;33m,\u001b[0m\u001b[1;36m2\u001b[0m\u001b[1;33m)\u001b[0m\u001b[1;33m\u001b[0m\u001b[1;33m\u001b[0m\u001b[0m\n\u001b[0m\u001b[0;32m      9\u001b[0m \u001b[0mmake_move\u001b[0m\u001b[1;33m(\u001b[0m\u001b[0mboard\u001b[0m\u001b[1;33m,\u001b[0m\u001b[1;36m1\u001b[0m\u001b[1;33m)\u001b[0m\u001b[1;33m\u001b[0m\u001b[1;33m\u001b[0m\u001b[0m\n\u001b[0;32m     10\u001b[0m \u001b[1;33m\u001b[0m\u001b[0m\n",
      "\u001b[1;32m~\\AppData\\Local\\Temp/ipykernel_4516/298397840.py\u001b[0m in \u001b[0;36mmake_move\u001b[1;34m(board, player)\u001b[0m\n\u001b[0;32m      2\u001b[0m \u001b[1;32mdef\u001b[0m \u001b[0mmake_move\u001b[0m\u001b[1;33m(\u001b[0m\u001b[0mboard\u001b[0m\u001b[1;33m,\u001b[0m\u001b[0mplayer\u001b[0m\u001b[1;33m)\u001b[0m\u001b[1;33m:\u001b[0m\u001b[1;33m\u001b[0m\u001b[1;33m\u001b[0m\u001b[0m\n\u001b[0;32m      3\u001b[0m     \u001b[0mlocation\u001b[0m \u001b[1;33m=\u001b[0m \u001b[0minput\u001b[0m\u001b[1;33m(\u001b[0m\u001b[1;34m\"Player \"\u001b[0m \u001b[1;33m+\u001b[0m \u001b[0mstr\u001b[0m\u001b[1;33m(\u001b[0m\u001b[0mplayer\u001b[0m\u001b[1;33m)\u001b[0m \u001b[1;33m+\u001b[0m \u001b[1;34m\", enter a location: \"\u001b[0m\u001b[1;33m)\u001b[0m\u001b[1;33m\u001b[0m\u001b[1;33m\u001b[0m\u001b[0m\n\u001b[1;32m----> 4\u001b[1;33m     \u001b[1;32mif\u001b[0m \u001b[0mnice_make_move\u001b[0m\u001b[1;33m(\u001b[0m\u001b[0mboard\u001b[0m\u001b[1;33m,\u001b[0m\u001b[0mplayer\u001b[0m\u001b[1;33m,\u001b[0m\u001b[0mlocation\u001b[0m\u001b[1;33m)\u001b[0m\u001b[1;33m:\u001b[0m\u001b[1;33m\u001b[0m\u001b[1;33m\u001b[0m\u001b[0m\n\u001b[0m\u001b[0;32m      5\u001b[0m         \u001b[1;32mreturn\u001b[0m \u001b[1;32mTrue\u001b[0m\u001b[1;33m\u001b[0m\u001b[1;33m\u001b[0m\u001b[0m\n\u001b[0;32m      6\u001b[0m     \u001b[1;32melse\u001b[0m\u001b[1;33m:\u001b[0m\u001b[1;33m\u001b[0m\u001b[1;33m\u001b[0m\u001b[0m\n",
      "\u001b[1;32m~\\AppData\\Local\\Temp/ipykernel_4516/3745284725.py\u001b[0m in \u001b[0;36mnice_make_move\u001b[1;34m(board, player, location)\u001b[0m\n\u001b[0;32m      1\u001b[0m \u001b[1;31m# Write you solution here\u001b[0m\u001b[1;33m\u001b[0m\u001b[1;33m\u001b[0m\u001b[0m\n\u001b[0;32m      2\u001b[0m \u001b[1;32mdef\u001b[0m \u001b[0mnice_make_move\u001b[0m\u001b[1;33m(\u001b[0m\u001b[0mboard\u001b[0m\u001b[1;33m,\u001b[0m\u001b[0mplayer\u001b[0m\u001b[1;33m,\u001b[0m\u001b[0mlocation\u001b[0m\u001b[1;33m)\u001b[0m\u001b[1;33m:\u001b[0m\u001b[1;33m\u001b[0m\u001b[1;33m\u001b[0m\u001b[0m\n\u001b[1;32m----> 3\u001b[1;33m     \u001b[0mrow\u001b[0m\u001b[1;33m,\u001b[0m \u001b[0mcolumn\u001b[0m \u001b[1;33m=\u001b[0m \u001b[0mparse_location\u001b[0m\u001b[1;33m(\u001b[0m\u001b[0mlocation\u001b[0m\u001b[1;33m)\u001b[0m\u001b[1;33m\u001b[0m\u001b[1;33m\u001b[0m\u001b[0m\n\u001b[0m\u001b[0;32m      4\u001b[0m     \u001b[1;32mif\u001b[0m \u001b[0mplace_on_board\u001b[0m\u001b[1;33m(\u001b[0m\u001b[0mboard\u001b[0m\u001b[1;33m,\u001b[0m\u001b[0mplayer\u001b[0m\u001b[1;33m,\u001b[0m\u001b[0mrow\u001b[0m\u001b[1;33m,\u001b[0m\u001b[0mcolumn\u001b[0m\u001b[1;33m)\u001b[0m\u001b[1;33m:\u001b[0m\u001b[1;33m\u001b[0m\u001b[1;33m\u001b[0m\u001b[0m\n\u001b[0;32m      5\u001b[0m         \u001b[1;32mreturn\u001b[0m \u001b[1;32mTrue\u001b[0m\u001b[1;33m\u001b[0m\u001b[1;33m\u001b[0m\u001b[0m\n",
      "\u001b[1;31mTypeError\u001b[0m: cannot unpack non-iterable bool object"
     ]
    }
   ],
   "source": [
    "# Test your solution here\n",
    "board=make_game()\n",
    "\n",
    "## Marking the board\n",
    "make_move(board,1)\n",
    "make_move(board,2)\n",
    "make_move(board,1)\n",
    "make_move(board,2)\n",
    "make_move(board,1)\n",
    " \n",
    "draw_tic_tac_toe(board)"
   ]
  },
  {
   "cell_type": "markdown",
   "metadata": {},
   "source": [
    "*Exercise 9:* Use all of the previous exercises to implement a full tic-tac-toe game, where an appropriate board is drawn, 2 players are repeatedly asked for a location coordinates of where they wish to place a mark, and the game status is checked until a player wins or a draw occurs."
   ]
  },
  {
   "cell_type": "code",
   "execution_count": null,
   "metadata": {
    "collapsed": true
   },
   "outputs": [],
   "source": [
    "# Write you solution here\n",
    "def col_winner():\n",
    "    for i in range(len(board)):\n",
    "        if board[i][0] == board[i][1] == board[i][2] and board[i][0] != 0:\n",
    "            return board[i][0]\n",
    "    return 0"
   ]
  },
  {
   "cell_type": "code",
   "execution_count": null,
   "metadata": {
    "collapsed": true
   },
   "outputs": [
    {
     "data": {
      "text/plain": [
       "'X'"
      ]
     },
     "execution_count": 92,
     "metadata": {},
     "output_type": "execute_result"
    }
   ],
   "source": [
    "# Test your solution here\n",
    "col_winner()"
   ]
  },
  {
   "cell_type": "markdown",
   "metadata": {},
   "source": [
    "*Exercise 10:* Test that your game works for 5x5 Tic Tac Toe.  "
   ]
  },
  {
   "cell_type": "code",
   "execution_count": null,
   "metadata": {},
   "outputs": [],
   "source": [
    "# Test your solution here\n",
    "def diag_winner():\n",
    "    if board[0][0] == board[1][1] == board[2][2] and board[0][0] != 0:\n",
    "        return board[0][0]\n",
    "     \n",
    "      \n",
    "    def is_full():\n",
    "        for i in range(len(board)):\n",
    "            for j in range(len(board)):\n",
    "                if board[i][j] == 0:\n",
    "                    return False\n",
    "        return True\n",
    "        \n",
    "    def winner():\n",
    "        if col_winner() != 0:\n",
    "            return col_winner()\n",
    "        if diag_winner() != 0:\n",
    "            return diag_winner()\n",
    "        if is_full():\n",
    "            return 0\n",
    "        return None\n",
    "     \n",
    "    return winner()"
   ]
  },
  {
   "cell_type": "markdown",
   "metadata": {},
   "source": [
    "*Exercise 11:* Develop a version of the game where one player is the computer. Note that you don't need to do an extensive seach for the best move. You can have the computer simply protect against loosing and otherwise try to win with straight or diagonal patterns."
   ]
  },
  {
   "cell_type": "code",
   "execution_count": 131,
   "metadata": {
    "collapsed": true
   },
   "outputs": [],
   "source": [
    "import random \n",
    "\n",
    "def col_winner():\n",
    "    for i in range(len(board)):\n",
    "        if board[i][0] == board[i][1] == board[i][2] and board[i][0] != 0:\n",
    "            return 1\n",
    "    return 0\n",
    "\n",
    "def row_winner():\n",
    "    for i in range(len(board)):\n",
    "        if board[0][i] == board[1][i] == board[2][i] and board[0][i] != 0:\n",
    "            return 1\n",
    "    return 0\n",
    "\n",
    "def diag_winner():\n",
    "    if board[0][0] == board[1][1] == board[2][2] and board[0][0] != 0:\n",
    "        return 1\n",
    "    return 0\n",
    "\n",
    "def is_full():\n",
    "    for i in range(len(board)):\n",
    "        for j in range(len(board)):\n",
    "            if board[i][j] == 0:\n",
    "                return 0\n",
    "    return 1\n",
    "\n",
    "def winner():\n",
    "    if col_winner() != 0:\n",
    "        return 1\n",
    "    \n",
    "    elif row_winner() != 0:\n",
    "        return 1\n",
    "    \n",
    "    elif diag_winner() != 0:\n",
    "        return 1\n",
    "    \n",
    "    elif is_full() == 1:\n",
    "        return 1\n",
    "    else:\n",
    "        return 0\n",
    "    \n",
    "     \n",
    "def computer_move(board,player):\n",
    "    player = 2\n",
    "    if winner() == 0:\n",
    "        while True:\n",
    "            row = random.randint(0,2)\n",
    "            column = random.randint(0,2)\n",
    "            if place_on_board(board,player,row,column):\n",
    "                return True\n",
    "    else:\n",
    "        return False\n",
    "    \n",
    "\n",
    "def play_game():\n",
    "    # makes a board\n",
    "    board = make_game()\n",
    "    \n",
    "    # prints the board\n",
    "    draw_tic_tac_toe(board)\n",
    "    \n",
    "    # takes input from the user\n",
    "    player = 1\n",
    "   \n",
    "   # while loop that works until the game is over\n",
    "    while winner() == 0:    \n",
    "        # takes input from the user for the location\n",
    "        location = input(\"Player \" + str(player) + \", enter a location: \")\n",
    "        \n",
    "        # checks if the location is valid\n",
    "        if nice_make_move(board,player,location):\n",
    "            # prints the board\n",
    "            print('\\n\\n')\n",
    "            draw_tic_tac_toe(board)\n",
    "        \n",
    "        else:\n",
    "            print(\"\\nInvalid move. Try again.\")\n",
    "            return False\n",
    "        \n",
    "        \n",
    "        # mark computer move\n",
    "        computer_move(board,2)\n",
    "        \n",
    "        # prints the board\n",
    "        print('\\n')\n",
    "        draw_tic_tac_toe(board)\n",
    "        \n",
    "        print(\"\\n\\n\"+ str(winner()))\n",
    "        \n",
    "   "
   ]
  },
  {
   "cell_type": "code",
   "execution_count": 133,
   "metadata": {
    "collapsed": true
   },
   "outputs": [
    {
     "name": "stdout",
     "output_type": "stream",
     "text": [
      "   |   |  \n",
      "-----------\n",
      "   |   |  \n",
      "-----------\n",
      "   |   |  \n",
      "\n",
      "\n",
      " X |   |  \n",
      "-----------\n",
      "   |   |  \n",
      "-----------\n",
      "   |   |  \n",
      "\n",
      "   |   |  \n",
      "-----------\n",
      "   | O |  \n",
      "-----------\n",
      "   |   |  \n",
      "\n",
      "0\n",
      "\n",
      "\n",
      "\n",
      "   |   |  \n",
      "-----------\n",
      "   | O | X\n",
      "-----------\n",
      "   |   |  \n",
      "\n",
      "   |   | O\n",
      "-----------\n",
      "   | O | X\n",
      "-----------\n",
      "   |   |  \n",
      "\n",
      "0\n",
      "\n",
      "\n",
      "\n",
      "   |   | O\n",
      "-----------\n",
      "   | O | X\n",
      "-----------\n",
      "   | X |  \n",
      "\n",
      "   |   | O\n",
      "-----------\n",
      "   | O | X\n",
      "-----------\n",
      " O | X |  \n",
      "\n",
      "0\n",
      "\n",
      "\n",
      "\n",
      "   | X | O\n",
      "-----------\n",
      "   | O | X\n",
      "-----------\n",
      " O | X |  \n",
      "\n",
      "   | X | O\n",
      "-----------\n",
      " O | O | X\n",
      "-----------\n",
      "   | X |  \n",
      "\n",
      "0\n",
      "\n",
      "\n",
      "\n",
      "   | X | O\n",
      "-----------\n",
      " O | O | X\n",
      "-----------\n",
      "   | X | X"
     ]
    },
    {
     "ename": "KeyboardInterrupt",
     "evalue": "",
     "output_type": "error",
     "traceback": [
      "\u001b[1;31m---------------------------------------------------------------------------\u001b[0m",
      "\u001b[1;31mKeyboardInterrupt\u001b[0m                         Traceback (most recent call last)",
      "\u001b[1;32m~\\AppData\\Local\\Temp/ipykernel_4516/2606690595.py\u001b[0m in \u001b[0;36m<module>\u001b[1;34m\u001b[0m\n\u001b[0;32m      1\u001b[0m \u001b[1;31m# Test your solution here\u001b[0m\u001b[1;33m\u001b[0m\u001b[1;33m\u001b[0m\u001b[0m\n\u001b[1;32m----> 2\u001b[1;33m \u001b[0mplay_game\u001b[0m\u001b[1;33m(\u001b[0m\u001b[1;33m)\u001b[0m\u001b[1;33m\u001b[0m\u001b[1;33m\u001b[0m\u001b[0m\n\u001b[0m",
      "\u001b[1;32m~\\AppData\\Local\\Temp/ipykernel_4516/3724078466.py\u001b[0m in \u001b[0;36mplay_game\u001b[1;34m()\u001b[0m\n\u001b[0;32m     80\u001b[0m \u001b[1;33m\u001b[0m\u001b[0m\n\u001b[0;32m     81\u001b[0m         \u001b[1;31m# mark computer move\u001b[0m\u001b[1;33m\u001b[0m\u001b[1;33m\u001b[0m\u001b[0m\n\u001b[1;32m---> 82\u001b[1;33m         \u001b[0mcomputer_move\u001b[0m\u001b[1;33m(\u001b[0m\u001b[0mboard\u001b[0m\u001b[1;33m,\u001b[0m\u001b[1;36m2\u001b[0m\u001b[1;33m)\u001b[0m\u001b[1;33m\u001b[0m\u001b[1;33m\u001b[0m\u001b[0m\n\u001b[0m\u001b[0;32m     83\u001b[0m \u001b[1;33m\u001b[0m\u001b[0m\n\u001b[0;32m     84\u001b[0m         \u001b[1;31m# prints the board\u001b[0m\u001b[1;33m\u001b[0m\u001b[1;33m\u001b[0m\u001b[0m\n",
      "\u001b[1;32m~\\AppData\\Local\\Temp/ipykernel_4516/3724078466.py\u001b[0m in \u001b[0;36mcomputer_move\u001b[1;34m(board, player)\u001b[0m\n\u001b[0;32m     45\u001b[0m     \u001b[1;32mif\u001b[0m \u001b[0mwinner\u001b[0m\u001b[1;33m(\u001b[0m\u001b[1;33m)\u001b[0m \u001b[1;33m==\u001b[0m \u001b[1;36m0\u001b[0m\u001b[1;33m:\u001b[0m\u001b[1;33m\u001b[0m\u001b[1;33m\u001b[0m\u001b[0m\n\u001b[0;32m     46\u001b[0m         \u001b[1;32mwhile\u001b[0m \u001b[1;32mTrue\u001b[0m\u001b[1;33m:\u001b[0m\u001b[1;33m\u001b[0m\u001b[1;33m\u001b[0m\u001b[0m\n\u001b[1;32m---> 47\u001b[1;33m             \u001b[0mrow\u001b[0m \u001b[1;33m=\u001b[0m \u001b[0mrandom\u001b[0m\u001b[1;33m.\u001b[0m\u001b[0mrandint\u001b[0m\u001b[1;33m(\u001b[0m\u001b[1;36m0\u001b[0m\u001b[1;33m,\u001b[0m\u001b[1;36m2\u001b[0m\u001b[1;33m)\u001b[0m\u001b[1;33m\u001b[0m\u001b[1;33m\u001b[0m\u001b[0m\n\u001b[0m\u001b[0;32m     48\u001b[0m             \u001b[0mcolumn\u001b[0m \u001b[1;33m=\u001b[0m \u001b[0mrandom\u001b[0m\u001b[1;33m.\u001b[0m\u001b[0mrandint\u001b[0m\u001b[1;33m(\u001b[0m\u001b[1;36m0\u001b[0m\u001b[1;33m,\u001b[0m\u001b[1;36m2\u001b[0m\u001b[1;33m)\u001b[0m\u001b[1;33m\u001b[0m\u001b[1;33m\u001b[0m\u001b[0m\n\u001b[0;32m     49\u001b[0m             \u001b[1;32mif\u001b[0m \u001b[0mplace_on_board\u001b[0m\u001b[1;33m(\u001b[0m\u001b[0mboard\u001b[0m\u001b[1;33m,\u001b[0m\u001b[0mplayer\u001b[0m\u001b[1;33m,\u001b[0m\u001b[0mrow\u001b[0m\u001b[1;33m,\u001b[0m\u001b[0mcolumn\u001b[0m\u001b[1;33m)\u001b[0m\u001b[1;33m:\u001b[0m\u001b[1;33m\u001b[0m\u001b[1;33m\u001b[0m\u001b[0m\n",
      "\u001b[1;32m~\\AppData\\Local\\Programs\\Python\\Python310\\lib\\random.py\u001b[0m in \u001b[0;36mrandint\u001b[1;34m(self, a, b)\u001b[0m\n\u001b[0;32m    368\u001b[0m         \"\"\"\n\u001b[0;32m    369\u001b[0m \u001b[1;33m\u001b[0m\u001b[0m\n\u001b[1;32m--> 370\u001b[1;33m         \u001b[1;32mreturn\u001b[0m \u001b[0mself\u001b[0m\u001b[1;33m.\u001b[0m\u001b[0mrandrange\u001b[0m\u001b[1;33m(\u001b[0m\u001b[0ma\u001b[0m\u001b[1;33m,\u001b[0m \u001b[0mb\u001b[0m\u001b[1;33m+\u001b[0m\u001b[1;36m1\u001b[0m\u001b[1;33m)\u001b[0m\u001b[1;33m\u001b[0m\u001b[1;33m\u001b[0m\u001b[0m\n\u001b[0m\u001b[0;32m    371\u001b[0m \u001b[1;33m\u001b[0m\u001b[0m\n\u001b[0;32m    372\u001b[0m \u001b[1;33m\u001b[0m\u001b[0m\n",
      "\u001b[1;32m~\\AppData\\Local\\Programs\\Python\\Python310\\lib\\random.py\u001b[0m in \u001b[0;36mrandrange\u001b[1;34m(self, start, stop, step)\u001b[0m\n\u001b[0;32m    350\u001b[0m         \u001b[1;32mif\u001b[0m \u001b[0mistep\u001b[0m \u001b[1;33m==\u001b[0m \u001b[1;36m1\u001b[0m\u001b[1;33m:\u001b[0m\u001b[1;33m\u001b[0m\u001b[1;33m\u001b[0m\u001b[0m\n\u001b[0;32m    351\u001b[0m             \u001b[1;32mif\u001b[0m \u001b[0mwidth\u001b[0m \u001b[1;33m>\u001b[0m \u001b[1;36m0\u001b[0m\u001b[1;33m:\u001b[0m\u001b[1;33m\u001b[0m\u001b[1;33m\u001b[0m\u001b[0m\n\u001b[1;32m--> 352\u001b[1;33m                 \u001b[1;32mreturn\u001b[0m \u001b[0mistart\u001b[0m \u001b[1;33m+\u001b[0m \u001b[0mself\u001b[0m\u001b[1;33m.\u001b[0m\u001b[0m_randbelow\u001b[0m\u001b[1;33m(\u001b[0m\u001b[0mwidth\u001b[0m\u001b[1;33m)\u001b[0m\u001b[1;33m\u001b[0m\u001b[1;33m\u001b[0m\u001b[0m\n\u001b[0m\u001b[0;32m    353\u001b[0m             \u001b[1;32mraise\u001b[0m \u001b[0mValueError\u001b[0m\u001b[1;33m(\u001b[0m\u001b[1;34m\"empty range for randrange() (%d, %d, %d)\"\u001b[0m \u001b[1;33m%\u001b[0m \u001b[1;33m(\u001b[0m\u001b[0mistart\u001b[0m\u001b[1;33m,\u001b[0m \u001b[0mistop\u001b[0m\u001b[1;33m,\u001b[0m \u001b[0mwidth\u001b[0m\u001b[1;33m)\u001b[0m\u001b[1;33m)\u001b[0m\u001b[1;33m\u001b[0m\u001b[1;33m\u001b[0m\u001b[0m\n\u001b[0;32m    354\u001b[0m \u001b[1;33m\u001b[0m\u001b[0m\n",
      "\u001b[1;32m~\\AppData\\Local\\Programs\\Python\\Python310\\lib\\random.py\u001b[0m in \u001b[0;36m_randbelow_with_getrandbits\u001b[1;34m(self, n)\u001b[0m\n\u001b[0;32m    244\u001b[0m         \u001b[0mgetrandbits\u001b[0m \u001b[1;33m=\u001b[0m \u001b[0mself\u001b[0m\u001b[1;33m.\u001b[0m\u001b[0mgetrandbits\u001b[0m\u001b[1;33m\u001b[0m\u001b[1;33m\u001b[0m\u001b[0m\n\u001b[0;32m    245\u001b[0m         \u001b[0mk\u001b[0m \u001b[1;33m=\u001b[0m \u001b[0mn\u001b[0m\u001b[1;33m.\u001b[0m\u001b[0mbit_length\u001b[0m\u001b[1;33m(\u001b[0m\u001b[1;33m)\u001b[0m  \u001b[1;31m# don't use (n-1) here because n can be 1\u001b[0m\u001b[1;33m\u001b[0m\u001b[1;33m\u001b[0m\u001b[0m\n\u001b[1;32m--> 246\u001b[1;33m         \u001b[0mr\u001b[0m \u001b[1;33m=\u001b[0m \u001b[0mgetrandbits\u001b[0m\u001b[1;33m(\u001b[0m\u001b[0mk\u001b[0m\u001b[1;33m)\u001b[0m  \u001b[1;31m# 0 <= r < 2**k\u001b[0m\u001b[1;33m\u001b[0m\u001b[1;33m\u001b[0m\u001b[0m\n\u001b[0m\u001b[0;32m    247\u001b[0m         \u001b[1;32mwhile\u001b[0m \u001b[0mr\u001b[0m \u001b[1;33m>=\u001b[0m \u001b[0mn\u001b[0m\u001b[1;33m:\u001b[0m\u001b[1;33m\u001b[0m\u001b[1;33m\u001b[0m\u001b[0m\n\u001b[0;32m    248\u001b[0m             \u001b[0mr\u001b[0m \u001b[1;33m=\u001b[0m \u001b[0mgetrandbits\u001b[0m\u001b[1;33m(\u001b[0m\u001b[0mk\u001b[0m\u001b[1;33m)\u001b[0m\u001b[1;33m\u001b[0m\u001b[1;33m\u001b[0m\u001b[0m\n",
      "\u001b[1;31mKeyboardInterrupt\u001b[0m: "
     ]
    }
   ],
   "source": [
    "# Test your solution here\n",
    "play_game()"
   ]
  }
 ],
 "metadata": {
  "kernelspec": {
   "display_name": "Python 3 (ipykernel)",
   "language": "python",
   "name": "python3"
  },
  "language_info": {
   "codemirror_mode": {
    "name": "ipython",
    "version": 3
   },
   "file_extension": ".py",
   "mimetype": "text/x-python",
   "name": "python",
   "nbconvert_exporter": "python",
   "pygments_lexer": "ipython3",
   "version": "3.10.0"
  }
 },
 "nbformat": 4,
 "nbformat_minor": 2
}
